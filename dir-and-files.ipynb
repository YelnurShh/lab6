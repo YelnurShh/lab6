{
 "cells": [
  {
   "cell_type": "code",
   "execution_count": null,
   "metadata": {},
   "outputs": [
    {
     "name": "stdout",
     "output_type": "stream",
     "text": [
      "Каталоги:\n",
      "['.git']\n",
      "\n",
      "Файлы:\n",
      "['builtin_f.ipynb', 'read.txt', 'dir-and-files.ipynb']\n",
      "\n",
      "Все файлы и каталоги:\n",
      "['builtin_f.ipynb', '.git', 'read.txt', 'dir-and-files.ipynb']\n"
     ]
    }
   ],
   "source": [
    "import os\n",
    "\n",
    "def list_files_and_dirs(path):\n",
    "    if not os.path.exists(path):\n",
    "        print(\"Указанный путь не существует.\")\n",
    "        return\n",
    "\n",
    "    if not os.path.isdir(path):\n",
    "        print(f\"Ошибка: {path} — это не каталог, а файл.\")\n",
    "        return\n",
    "\n",
    "    print(\"Каталоги:\")\n",
    "    print([d for d in os.listdir(path) if os.path.isdir(os.path.join(path, d))])\n",
    "\n",
    "    print(\"\\nФайлы:\")\n",
    "    print([f for f in os.listdir(path) if os.path.isfile(os.path.join(path, f))])\n",
    "\n",
    "    print(\"\\nВсе файлы и каталоги:\")\n",
    "    print(os.listdir(path))\n",
    "\n",
    "list_files_and_dirs('/Users/elnrsahar/Desktop/Python tasks/lab6') \n"
   ]
  },
  {
   "cell_type": "code",
   "execution_count": 10,
   "metadata": {},
   "outputs": [
    {
     "name": "stdout",
     "output_type": "stream",
     "text": [
      "Существование: True\n",
      "Читаемость: True\n",
      "Записываемость: True\n",
      "Исполняемость: True\n"
     ]
    }
   ],
   "source": [
    "import os\n",
    "\n",
    "def check_path_access(path):\n",
    "    print(f\"Существование: {os.path.exists(path)}\")\n",
    "    print(f\"Читаемость: {os.access(path, os.R_OK)}\")\n",
    "    print(f\"Записываемость: {os.access(path, os.W_OK)}\")\n",
    "    print(f\"Исполняемость: {os.access(path, os.X_OK)}\")\n",
    "\n",
    "check_path_access('/Users/elnrsahar/Desktop/Python tasks/lab6')\n"
   ]
  },
  {
   "cell_type": "code",
   "execution_count": 11,
   "metadata": {},
   "outputs": [
    {
     "name": "stdout",
     "output_type": "stream",
     "text": [
      "Каталог: /Users/elnrsahar/Desktop/Python tasks\n",
      "Имя файла: lab6\n"
     ]
    }
   ],
   "source": [
    "import os\n",
    "\n",
    "def path_info(path):\n",
    "    if os.path.exists(path):\n",
    "        print(f\"Каталог: {os.path.dirname(path)}\")\n",
    "        print(f\"Имя файла: {os.path.basename(path)}\")\n",
    "    else:\n",
    "        print(\"Путь не существует.\")\n",
    "\n",
    "path_info('/Users/elnrsahar/Desktop/Python tasks/lab6')\n"
   ]
  },
  {
   "cell_type": "code",
   "execution_count": 14,
   "metadata": {},
   "outputs": [
    {
     "name": "stdout",
     "output_type": "stream",
     "text": [
      "148\n"
     ]
    }
   ],
   "source": [
    "def count_lines(file_path):\n",
    "    try:\n",
    "        with open(file_path, 'r', encoding='utf-8') as file:\n",
    "            return sum(1 for line in file)\n",
    "    except FileNotFoundError:\n",
    "        print(\"Файл не найден.\")\n",
    "        return 0\n",
    "\n",
    "print(count_lines('/Users/elnrsahar/Desktop/Python tasks/lab6/read.txt'))\n"
   ]
  },
  {
   "cell_type": "code",
   "execution_count": 1,
   "metadata": {},
   "outputs": [],
   "source": [
    "def write_list_to_file(file_path, data_list):\n",
    "    with open(file_path, 'w', encoding='utf-8') as file:\n",
    "        for item in data_list:\n",
    "            file.write(str(item) + '\\n')\n",
    "\n",
    "write_list_to_file('/Users/elnrsahar/Desktop/Python tasks/lab6/output.txt', [\"яблоко\", \"банан\", \"апельсин\"])\n"
   ]
  },
  {
   "cell_type": "code",
   "execution_count": 2,
   "metadata": {},
   "outputs": [],
   "source": [
    "import string\n",
    "\n",
    "directory = '/Users/elnrsahar/Desktop/Python tasks/lab6'\n",
    "\n",
    "for letter in string.ascii_uppercase:\n",
    "    with open(f\"{directory}/{letter}.txt\", 'w') as file:\n",
    "        file.write(f\"Файл {letter}.txt создан.\\n\")\n"
   ]
  },
  {
   "cell_type": "code",
   "execution_count": 4,
   "metadata": {},
   "outputs": [
    {
     "name": "stdout",
     "output_type": "stream",
     "text": [
      "Копирование завершено.\n"
     ]
    }
   ],
   "source": [
    "def copy_file(source, destination):\n",
    "    try:\n",
    "        with open(source, 'r', encoding='utf-8') as src, open(destination, 'w', encoding='utf-8') as dst:\n",
    "            dst.write(src.read())\n",
    "        print(\"Копирование завершено.\")\n",
    "    except FileNotFoundError:\n",
    "        print(\"Исходный файл не найден.\")\n",
    "\n",
    "copy_file('/Users/elnrsahar/Desktop/Python tasks/lab6/output.txt', \n",
    "          '/Users/elnrsahar/Desktop/Python tasks/lab6/Z.txt')\n"
   ]
  },
  {
   "cell_type": "code",
   "execution_count": 5,
   "metadata": {},
   "outputs": [
    {
     "name": "stdout",
     "output_type": "stream",
     "text": [
      "Файл удален.\n"
     ]
    }
   ],
   "source": [
    "import os\n",
    "\n",
    "def delete_file(file_path):\n",
    "    if os.path.exists(file_path):\n",
    "        if os.access(file_path, os.W_OK):\n",
    "            os.remove(file_path)\n",
    "            print(\"Файл удален.\")\n",
    "        else:\n",
    "            print(\"Нет прав на удаление файла.\")\n",
    "    else:\n",
    "        print(\"Файл не существует.\")\n",
    "\n",
    "delete_file('/Users/elnrsahar/Desktop/Python tasks/lab6/E.txt')\n"
   ]
  }
 ],
 "metadata": {
  "kernelspec": {
   "display_name": "Python 3",
   "language": "python",
   "name": "python3"
  },
  "language_info": {
   "codemirror_mode": {
    "name": "ipython",
    "version": 3
   },
   "file_extension": ".py",
   "mimetype": "text/x-python",
   "name": "python",
   "nbconvert_exporter": "python",
   "pygments_lexer": "ipython3",
   "version": "3.8.12"
  }
 },
 "nbformat": 4,
 "nbformat_minor": 2
}
