{
 "cells": [
  {
   "cell_type": "code",
   "execution_count": null,
   "metadata": {},
   "outputs": [
    {
     "name": "stdout",
     "output_type": "stream",
     "text": [
      "120\n"
     ]
    }
   ],
   "source": [
    "import math\n",
    "\n",
    "numbers = [2, 3, 4, 5]\n",
    "result = math.prod(numbers)\n",
    "\n",
    "print(result)\n"
   ]
  },
  {
   "cell_type": "code",
   "execution_count": null,
   "metadata": {},
   "outputs": [
    {
     "name": "stdout",
     "output_type": "stream",
     "text": [
      "Sum of upper:  6\n",
      "Sum of lower:  28\n"
     ]
    }
   ],
   "source": [
    "text=\"Yelnur Broke His Leg, When he was 2 years Old\"\n",
    "\n",
    "upper=sum(map(str.isupper, text))\n",
    "lower=sum(map(str.islower, text))\n",
    "\n",
    "print(\"Sum of upper: \", upper)\n",
    "print(\"Sum of lower: \", lower)"
   ]
  },
  {
   "cell_type": "code",
   "execution_count": 10,
   "metadata": {},
   "outputs": [
    {
     "name": "stdout",
     "output_type": "stream",
     "text": [
      "True\n"
     ]
    }
   ],
   "source": [
    "def is_polin(s):\n",
    "    return s==s[::-1]\n",
    "\n",
    "\n",
    "text=\"kiik\"\n",
    "if is_polin(text):\n",
    "    print(\"True\")\n",
    "else:\n",
    "    print(\"False\")"
   ]
  },
  {
   "cell_type": "code",
   "execution_count": 16,
   "metadata": {},
   "outputs": [
    {
     "name": "stdout",
     "output_type": "stream",
     "text": [
      "Square root of 81 after 6000 milliseconds is 9.0\n"
     ]
    }
   ],
   "source": [
    "import time\n",
    "import math\n",
    "\n",
    "\n",
    "num = int(input()) \n",
    "delay = int(input())  \n",
    "\n",
    "time.sleep(delay / 1000) \n",
    "\n",
    "result = math.sqrt(num)\n",
    "\n",
    "print(f\"Square root of {num} after {delay} milliseconds is {result}\")\n"
   ]
  },
  {
   "cell_type": "code",
   "execution_count": 21,
   "metadata": {},
   "outputs": [
    {
     "name": "stdout",
     "output_type": "stream",
     "text": [
      "True\n",
      "False\n"
     ]
    }
   ],
   "source": [
    "t=(1, 1, True)\n",
    "\n",
    "print(all(t))\n",
    "\n",
    "t2=(0,0,False)\n",
    "\n",
    "print(all(t2))"
   ]
  }
 ],
 "metadata": {
  "kernelspec": {
   "display_name": "Python 3",
   "language": "python",
   "name": "python3"
  },
  "language_info": {
   "codemirror_mode": {
    "name": "ipython",
    "version": 3
   },
   "file_extension": ".py",
   "mimetype": "text/x-python",
   "name": "python",
   "nbconvert_exporter": "python",
   "pygments_lexer": "ipython3",
   "version": "3.8.12"
  }
 },
 "nbformat": 4,
 "nbformat_minor": 2
}
